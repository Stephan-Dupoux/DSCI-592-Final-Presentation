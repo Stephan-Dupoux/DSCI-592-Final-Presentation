{
 "cells": [
  {
   "cell_type": "code",
   "execution_count": 2,
   "metadata": {},
   "outputs": [],
   "source": [
    "import pandas as pd\n",
    "import numpy as np\n",
    "from sklearn.linear_model import LinearRegression\n",
    "import string\n",
    "import pickle\n",
    "import joblib\n",
    "from sklearn.metrics import r2_score\n",
    "import random\n",
    "\n",
    "np.random.seed(74)"
   ]
  },
  {
   "cell_type": "code",
   "execution_count": 3,
   "metadata": {},
   "outputs": [],
   "source": [
    "#import trained models\n",
    "with open('LinReg III.pkl', 'rb') as f:\n",
    "    linreg = joblib.load(f)\n",
    "with open('Lasso III.pkl', 'rb') as f:\n",
    "    lasso = joblib.load(f)\n",
    "with open('Ridge III.pkl', 'rb') as f:\n",
    "    ridge = joblib.load(f)"
   ]
  },
  {
   "cell_type": "code",
   "execution_count": 4,
   "metadata": {
    "tags": []
   },
   "outputs": [
    {
     "name": "stderr",
     "output_type": "stream",
     "text": [
      "/opt/conda/lib/python3.7/site-packages/sklearn/base.py:493: FutureWarning: The feature names should match those that were passed during fit. Starting version 1.2, an error will be raised.\n",
      "Feature names unseen at fit time:\n",
      "- ER_MRKT1M-100\n",
      "- ER_SEC1M-100\n",
      "Feature names seen at fit time, yet now missing:\n",
      "- ER_MRKT1M\n",
      "- ER_SEC1M\n",
      "\n",
      "  warnings.warn(message, FutureWarning)\n",
      "/opt/conda/lib/python3.7/site-packages/sklearn/base.py:493: FutureWarning: The feature names should match those that were passed during fit. Starting version 1.2, an error will be raised.\n",
      "Feature names unseen at fit time:\n",
      "- ER_MRKT1M-100\n",
      "- ER_SEC1M-100\n",
      "Feature names seen at fit time, yet now missing:\n",
      "- ER_MRKT1M\n",
      "- ER_SEC1M\n",
      "\n",
      "  warnings.warn(message, FutureWarning)\n",
      "/opt/conda/lib/python3.7/site-packages/sklearn/base.py:493: FutureWarning: The feature names should match those that were passed during fit. Starting version 1.2, an error will be raised.\n",
      "Feature names unseen at fit time:\n",
      "- ER_MRKT1M-100\n",
      "- ER_SEC1M-100\n",
      "Feature names seen at fit time, yet now missing:\n",
      "- ER_MRKT1M\n",
      "- ER_SEC1M\n",
      "\n",
      "  warnings.warn(message, FutureWarning)\n"
     ]
    }
   ],
   "source": [
    "#import data\n",
    "df = pd.read_excel(\"data.xlsx\")\n",
    "X = df[['BETA_SEC1M', 'BETA_MRKT1M', 'ER_MRKT1M-100', 'ER_SEC1M-100', 'RFR1M']]\n",
    "Y = df[['ACTUALRETURN_1M-100']]\n",
    "\n",
    "#predict returns\n",
    "hat_linreg = linreg.predict(X)\n",
    "hat_lasso  = lasso.predict(X)\n",
    "hat_lasso = hat_lasso.reshape(len(hat_lasso),1)\n",
    "hat_ridge  = ridge.predict(X)\n"
   ]
  },
  {
   "cell_type": "code",
   "execution_count": 5,
   "metadata": {
    "tags": []
   },
   "outputs": [
    {
     "name": "stdout",
     "output_type": "stream",
     "text": [
      "            0 ticker\n",
      "369  0.012197  ORINY\n",
      "352  0.030491   ADMA\n",
      "355  0.032700   AXSM\n",
      "360  0.037569   SLNX\n",
      "337  0.051471   FNCH\n",
      "361  0.054683   MDWD\n",
      "371  0.054795  SGIPF\n",
      "348  0.067900    IQV\n",
      "358  0.073322   EXAI\n",
      "366  0.073549   SRGA\n",
      "347  0.077796  VMTHF\n",
      "354  0.080183  GLAXF\n",
      "329  0.083330    CVM\n",
      "351  0.101746   XCUR\n",
      "349  0.107588  OCTHF\n",
      "367  0.107798  NEGXF\n",
      "339  0.120847   CASI\n",
      "342  0.124913   PLUR\n",
      "370  0.130763   NVST\n",
      "340  0.134179  OPHLY\n",
      "-0.010128075705567063\n"
     ]
    },
    {
     "name": "stderr",
     "output_type": "stream",
     "text": [
      "/opt/conda/lib/python3.7/site-packages/ipykernel_launcher.py:2: RuntimeWarning: divide by zero encountered in true_divide\n",
      "  \n"
     ]
    }
   ],
   "source": [
    "#score linreg model by calculating percent difference from actual return\n",
    "scores_linreg = pd.DataFrame(abs((Y.values.tolist()-hat_linreg)/Y.values.tolist()))\n",
    "scores_linreg['ticker'] = df[['ticker']]\n",
    "print(scores_linreg.sort_values(by=0).head(20))\n",
    "\n",
    "print(r2_score(Y,hat_linreg))"
   ]
  },
  {
   "cell_type": "code",
   "execution_count": 6,
   "metadata": {},
   "outputs": [
    {
     "name": "stdout",
     "output_type": "stream",
     "text": [
      "-0.010128075705567063\n",
      "-0.010128075705567063\n",
      "-0.010128075705544637\n"
     ]
    }
   ],
   "source": [
    "print(r2_score(Y,hat_linreg))\n",
    "#0.9778089592661071\n",
    "\n",
    "print(r2_score(Y,hat_lasso))\n",
    "#0.9778207594891477\n",
    "\n",
    "print(r2_score(Y,hat_ridge))\n",
    "#0.977820759491153"
   ]
  },
  {
   "cell_type": "code",
   "execution_count": 7,
   "metadata": {},
   "outputs": [
    {
     "name": "stdout",
     "output_type": "stream",
     "text": [
      "            0 ticker\n",
      "369  0.012197  ORINY\n",
      "352  0.030491   ADMA\n",
      "355  0.032700   AXSM\n",
      "360  0.037569   SLNX\n",
      "337  0.051471   FNCH\n",
      "361  0.054683   MDWD\n",
      "371  0.054795  SGIPF\n",
      "348  0.067900    IQV\n",
      "358  0.073322   EXAI\n",
      "366  0.073549   SRGA\n",
      "347  0.077796  VMTHF\n",
      "354  0.080183  GLAXF\n",
      "329  0.083330    CVM\n",
      "351  0.101746   XCUR\n",
      "349  0.107588  OCTHF\n",
      "367  0.107798  NEGXF\n",
      "339  0.120847   CASI\n",
      "342  0.124913   PLUR\n",
      "370  0.130763   NVST\n",
      "340  0.134179  OPHLY\n",
      "-0.010128075705567063\n"
     ]
    },
    {
     "name": "stderr",
     "output_type": "stream",
     "text": [
      "/opt/conda/lib/python3.7/site-packages/ipykernel_launcher.py:2: RuntimeWarning: divide by zero encountered in true_divide\n",
      "  \n"
     ]
    }
   ],
   "source": [
    "#score lasso model by calculating percent difference from actual return\n",
    "scores_lasso = pd.DataFrame(abs((Y.values.tolist()-hat_lasso)/Y.values.tolist()))\n",
    "scores_lasso['ticker'] = df[['ticker']]\n",
    "print(scores_lasso.sort_values(by=0).head(20))\n",
    "\n",
    "print(r2_score(Y,hat_lasso))"
   ]
  },
  {
   "cell_type": "code",
   "execution_count": 8,
   "metadata": {},
   "outputs": [
    {
     "name": "stdout",
     "output_type": "stream",
     "text": [
      "            0 ticker\n",
      "369  0.012197  ORINY\n",
      "352  0.030491   ADMA\n",
      "355  0.032700   AXSM\n",
      "360  0.037569   SLNX\n",
      "337  0.051471   FNCH\n",
      "361  0.054683   MDWD\n",
      "371  0.054795  SGIPF\n",
      "348  0.067900    IQV\n",
      "358  0.073322   EXAI\n",
      "366  0.073549   SRGA\n",
      "347  0.077796  VMTHF\n",
      "354  0.080183  GLAXF\n",
      "329  0.083330    CVM\n",
      "351  0.101746   XCUR\n",
      "349  0.107588  OCTHF\n",
      "367  0.107798  NEGXF\n",
      "339  0.120847   CASI\n",
      "342  0.124913   PLUR\n",
      "370  0.130763   NVST\n",
      "340  0.134179  OPHLY\n",
      "-0.010128075705544637\n"
     ]
    },
    {
     "name": "stderr",
     "output_type": "stream",
     "text": [
      "/opt/conda/lib/python3.7/site-packages/ipykernel_launcher.py:2: RuntimeWarning: divide by zero encountered in true_divide\n",
      "  \n"
     ]
    }
   ],
   "source": [
    "#score ridge model by calculating percent difference from actual return\n",
    "scores_ridge = pd.DataFrame(abs((Y.values.tolist()-hat_ridge)/Y.values.tolist()))\n",
    "scores_ridge['ticker'] = df[['ticker']]\n",
    "print(scores_ridge.sort_values(by=0).head(20))\n",
    "\n",
    "print(r2_score(Y,hat_ridge))"
   ]
  },
  {
   "cell_type": "code",
   "execution_count": 9,
   "metadata": {},
   "outputs": [],
   "source": [
    "#get tickers, volumes, and marketcaps\n",
    "ticker_info = pd.read_excel('lol (1).xlsx')\n",
    "tickers = np.unique(ticker_info.loc[:,'Ticker'])\n",
    "volumes = ticker_info.loc[ticker_info.loc[:,'Time'] == '2015-11-25']['vw']\n",
    "marketcaps = ticker_info.loc[ticker_info.loc[:,'Time'] == '2015-11-25']['Market_Cap']"
   ]
  },
  {
   "cell_type": "code",
   "execution_count": 10,
   "metadata": {},
   "outputs": [],
   "source": [
    "#linear regression\n",
    "#get tickers that are in both datasets\n",
    "sample_sectors = df[df['ticker'].isin(list(tickers))][:]\n",
    "\n",
    "#get linear regression results from smaller sample\n",
    "sample_hat = pd.DataFrame(hat_linreg[list(sample_sectors.index)])\n",
    "\n",
    "#get scores for smaller sample\n",
    "sample_scores = scores_linreg[scores_linreg['ticker'].isin(list(tickers))][:]\n",
    "\n",
    "#prep data for allocation model\n",
    "beta = sample_sectors.loc[:,'BETA_MRKT1M'].tolist()\n",
    "accuracy = 1 - sample_scores[0]*sample_scores[0].tolist()\n",
    "ticker = sample_sectors.loc[:,'ticker'].tolist()"
   ]
  },
  {
   "cell_type": "code",
   "execution_count": 11,
   "metadata": {},
   "outputs": [],
   "source": [
    "#set up data for allocation model\n",
    "d = {\n",
    "    'beta':beta,\n",
    "    'volume':volumes.tolist(),\n",
    "    'marketcap':marketcaps.tolist(),\n",
    "    'expected_return':sample_hat[0].tolist(),\n",
    "    'accuracy':accuracy.tolist(),\n",
    "    'ticker':ticker\n",
    "}\n",
    "\n",
    "stocks_linreg = pd.DataFrame(data=d)\n",
    "stocks_linreg.set_index('ticker',inplace=True)\n"
   ]
  },
  {
   "cell_type": "code",
   "execution_count": 12,
   "metadata": {},
   "outputs": [],
   "source": [
    "#lasso\n",
    "#get lasso results from smaller sample\n",
    "sample_lasso = pd.DataFrame(hat_lasso[list(sample_sectors.index)])\n",
    "\n",
    "#get scores for smaller sample\n",
    "sample_scores = scores_lasso[scores_lasso['ticker'].isin(list(tickers))][:]\n",
    "\n",
    "#get accuracy for this model\n",
    "accuracy = 1 - sample_scores[0]*sample_scores[0].tolist()\n",
    "\n",
    "\n",
    "d = {\n",
    "    'beta':beta,\n",
    "    'volume':volumes.tolist(),\n",
    "    'marketcap':marketcaps.tolist(),\n",
    "    'expected_return':sample_lasso[0].tolist(),\n",
    "    'accuracy':accuracy.tolist(),\n",
    "    'ticker':ticker\n",
    "}\n",
    "\n",
    "stocks_lasso = pd.DataFrame(data=d)\n",
    "stocks_lasso.set_index('ticker',inplace=True)\n"
   ]
  },
  {
   "cell_type": "code",
   "execution_count": 13,
   "metadata": {},
   "outputs": [],
   "source": [
    "sample_ridge = pd.DataFrame(hat_ridge[list(sample_sectors.index)])\n",
    "\n",
    "sample_scores = scores_ridge[scores_ridge['ticker'].isin(list(tickers))][:]\n",
    "\n",
    "accuracy = 1 - sample_scores[0]*sample_scores[0].tolist()\n",
    "\n",
    "d = {\n",
    "    'beta':beta,\n",
    "    'volume':volumes.tolist(),\n",
    "    'marketcap':marketcaps.tolist(),\n",
    "    'expected_return':sample_ridge[0].tolist(),\n",
    "    'accuracy':accuracy.tolist(),\n",
    "    'ticker':ticker\n",
    "}\n",
    "\n",
    "stocks_ridge = pd.DataFrame(data=d)\n",
    "stocks_ridge.set_index('ticker',inplace=True)"
   ]
  },
  {
   "cell_type": "code",
   "execution_count": 29,
   "metadata": {},
   "outputs": [
    {
     "name": "stdout",
     "output_type": "stream",
     "text": [
      "             beta       volume     marketcap  expected_return  accuracy  \\\n",
      "ticker                                                                    \n",
      "AVGR    70.415961  138506.4000  8.669961e+06         0.067720  0.000075   \n",
      "CFRX     1.663797    1744.0200  8.392915e+06         0.079198  0.004060   \n",
      "BIOC     0.886079     523.0175  1.330466e+07         0.079328  0.010656   \n",
      "TTNP     0.290728    3273.7600  2.123207e+06         0.079428  0.029547   \n",
      "CFMS     0.265322     508.8720  1.890800e+07         0.079432  0.034790   \n",
      "CHEK     0.258131     786.6000  1.375146e+07         0.079433  0.034388   \n",
      "\n",
      "        beta_contribution  volume_contribution  marketcap_contribution  \\\n",
      "ticker                                                                   \n",
      "AVGR           -14.083192             5.919336                7.987687   \n",
      "CFRX            -0.332759             3.731974                7.971449   \n",
      "BIOC            -0.177216             3.129807                8.201812   \n",
      "TTNP            -0.058146             4.046847                7.284219   \n",
      "CFMS            -0.053064             3.116098                8.377548   \n",
      "CHEK            -0.051626             3.333860                8.218328   \n",
      "\n",
      "        return_contribution  \n",
      "ticker                       \n",
      "AVGR               0.415359  \n",
      "CFRX               0.449358  \n",
      "BIOC               0.449714  \n",
      "TTNP               0.449986  \n",
      "CFMS               0.449998  \n",
      "CHEK               0.450001  \n",
      "[('CFMS', 0.4136731959154777), ('CHEK', 0.4109554252354336), ('TTNP', 0.3463736466780011), ('BIOC', 0.12365496033571394), ('CFRX', 0.04798878312116493), ('AVGR', 1.7888012507747207e-05)]\n",
      "{'CFMS': 0.30809884449240865, 'CHEK': 0.3060746814226602, 'TTNP': 0.25797494582152863, 'BIOC': 0.09209673426114927, 'CFRX': 0.03574147122466371, 'AVGR': 1.3322777589459143e-05}\n",
      "0.3777628719015013\n"
     ]
    }
   ],
   "source": [
    "beta_weight = -0.2\n",
    "volume_weight = 0.5\n",
    "marketcap_weight = 0.5\n",
    "return_weight = 0.5\n",
    "\n",
    "priority = dict()\n",
    "beta_contributions = list()\n",
    "volume_contributions = list()\n",
    "marketcap_contributions = list()\n",
    "return_contributions = list()\n",
    "\n",
    "\n",
    "\n",
    "for ind, stock in stocks_linreg.iterrows():\n",
    "    beta_contribution = abs(stock.beta)*beta_weight\n",
    "    beta_contributions.append(beta_contribution)\n",
    "    volume_contribution = np.math.log(stock.volume) * volume_weight\n",
    "    volume_contributions.append(volume_contribution)\n",
    "    marketcap_contribution = np.math.log(stock.marketcap) * marketcap_weight\n",
    "    marketcap_contributions.append(marketcap_contribution)\n",
    "    return_contribution = np.math.log10(stock.expected_return*100)* return_weight\n",
    "    return_contributions.append(return_contribution)\n",
    "    stock_priority = stock.accuracy * (beta_contribution + volume_contribution + marketcap_contribution + return_contribution )\n",
    "    priority[stock.name] = stock_priority\n",
    "\n",
    "\n",
    "\n",
    "stocks_linreg['beta_contribution'] = beta_contributions\n",
    "stocks_linreg['volume_contribution'] = volume_contributions\n",
    "stocks_linreg['marketcap_contribution'] = marketcap_contributions\n",
    "stocks_linreg['return_contribution'] = return_contributions\n",
    "print(stocks_linreg)\n",
    "\n",
    "priority = sorted(priority.items(), key=lambda x:x[1],reverse=True)\n",
    "print(priority)\n",
    "top_priorities = priority[0:10]\n",
    "top_priorities = [item for item in top_priorities if item[1] > 0]\n",
    "normalized_values = dict()\n",
    "for i in top_priorities:\n",
    "    #print(i)\n",
    "    nv = i[1] / sum(j[1] for j in top_priorities)\n",
    "    normalized_values[i[0]] = nv\n",
    "    \n",
    "print(normalized_values)\n",
    "\n",
    "portfolio_beta = 0\n",
    "for i in normalized_values.keys():\n",
    "    portfolio_beta = portfolio_beta + normalized_values[i]*stocks_linreg.loc[i]['beta']\n",
    "\n",
    "print(portfolio_beta)"
   ]
  },
  {
   "cell_type": "code",
   "execution_count": 15,
   "metadata": {},
   "outputs": [
    {
     "name": "stderr",
     "output_type": "stream",
     "text": [
      "/opt/conda/lib/python3.7/site-packages/IPython/core/interactiveshell.py:3553: DtypeWarning: Columns (10) have mixed types.Specify dtype option on import or set low_memory=False.\n",
      "  exec(code_obj, self.user_global_ns, self.user_ns)\n"
     ]
    }
   ],
   "source": [
    "d = pd.read_csv(\"gs://vertexaioutputs/Historical Financial Data.csv\")\n",
    "d.set_index('Ticker',inplace=True)\n",
    "#print(d)"
   ]
  },
  {
   "cell_type": "code",
   "execution_count": 31,
   "metadata": {},
   "outputs": [
    {
     "name": "stdout",
     "output_type": "stream",
     "text": [
      "-0.16966824644549763\n",
      "-0.07962790697674423\n",
      "0.07092198581560284\n",
      "-0.22959183673469388\n",
      "0.2\n",
      "0.4289838337182448\n",
      "Overall return\n",
      "-0.07234123036398132\n"
     ]
    }
   ],
   "source": [
    "portfolio_return = 0.0\n",
    "for i in normalized_values.keys():\n",
    "    temp = d.loc[i]\n",
    "    start_date = temp.loc[temp.loc[:]['Time'] == '2015-11-25'].iloc[0]\n",
    "    end_date = temp.loc[temp.loc[:]['Time'] >= '2015-12-25'].iloc[0]\n",
    "    ret_val = (end_date['c'] - start_date['o'])/start_date['o']\n",
    "    print(ret_val)\n",
    "    portfolio_return += ret_val*normalized_values[i]\n",
    "    \n",
    "print('Overall return')\n",
    "print(portfolio_return)"
   ]
  },
  {
   "cell_type": "code",
   "execution_count": 17,
   "metadata": {},
   "outputs": [
    {
     "name": "stdout",
     "output_type": "stream",
     "text": [
      "{'CFMS': 0.3082342874775525, 'CHEK': 0.30635036144029937, 'TTNP': 0.2577493973772136, 'BIOC': 0.0919283692482508, 'CFRX': 0.035737584456683694}\n",
      "0.3767106084393677\n"
     ]
    }
   ],
   "source": [
    "beta_weight = -0.2\n",
    "volume_weight = 0.5\n",
    "marketcap_weight = 0.5\n",
    "return_weight = 0.5\n",
    "\n",
    "priority = dict()\n",
    "beta_contributions = list()\n",
    "volume_contributions = list()\n",
    "marketcap_contributions = list()\n",
    "return_contributions = list()\n",
    "\n",
    "\n",
    "\n",
    "for ind, stock in stocks_lasso.iterrows():\n",
    "    beta_contribution = abs(stock.beta)*beta_weight\n",
    "    beta_contributions.append(beta_contribution)\n",
    "    volume_contribution = np.math.log(stock.volume) * volume_weight\n",
    "    volume_contributions.append(volume_contribution)\n",
    "    marketcap_contribution = np.math.log(stock.marketcap) * marketcap_weight\n",
    "    marketcap_contributions.append(marketcap_contribution)\n",
    "    return_contribution = np.math.log10(stock.expected_return)* return_weight\n",
    "    return_contributions.append(return_contribution)\n",
    "    stock_priority = stock.accuracy * (beta_contribution + volume_contribution + marketcap_contribution + return_contribution )\n",
    "    priority[stock.name] = stock_priority\n",
    "\n",
    "\n",
    "\n",
    "stocks_lasso['beta_contribution'] = beta_contributions\n",
    "stocks_lasso['volume_contribution'] = volume_contributions\n",
    "stocks_lasso['marketcap_contribution'] = marketcap_contributions\n",
    "stocks_lasso['return_contribution'] = return_contributions\n",
    "\n",
    "\n",
    "priority = sorted(priority.items(), key=lambda x:x[1],reverse=True)\n",
    "top_priorities = priority[0:10]\n",
    "top_priorities = [item for item in top_priorities if item[1] > 0]\n",
    "normalized_values = dict()\n",
    "for i in top_priorities:\n",
    "    nv = i[1] / sum(j[1] for j in top_priorities)\n",
    "    normalized_values[i[0]] = nv\n",
    "    \n",
    "print(normalized_values)\n",
    "\n",
    "portfolio_beta = 0\n",
    "for i in normalized_values.keys():\n",
    "    portfolio_beta = portfolio_beta + normalized_values[i]*stocks_lasso.loc[i]['beta']\n",
    "\n",
    "print(portfolio_beta)"
   ]
  },
  {
   "cell_type": "code",
   "execution_count": 18,
   "metadata": {},
   "outputs": [
    {
     "name": "stdout",
     "output_type": "stream",
     "text": [
      "Overall return\n",
      "-0.07236999628138126\n"
     ]
    }
   ],
   "source": [
    "portfolio_return = 0.0\n",
    "for i in normalized_values.keys():\n",
    "    temp = d.loc[i]\n",
    "    start_date = temp.loc[temp.loc[:]['Time'] == '2015-11-25'].iloc[0]\n",
    "    end_date = temp.loc[temp.loc[:]['Time'] >= '2015-12-25'].iloc[0]\n",
    "    ret_val = (end_date['c'] - start_date['o'])/start_date['o']\n",
    "    portfolio_return += ret_val*normalized_values[i]\n",
    "    \n",
    "print('Overall return')\n",
    "print(portfolio_return)"
   ]
  },
  {
   "cell_type": "code",
   "execution_count": 19,
   "metadata": {},
   "outputs": [
    {
     "name": "stdout",
     "output_type": "stream",
     "text": [
      "{'CFMS': 0.3082342874772485, 'CHEK': 0.30635036143999633, 'TTNP': 0.2577493973772602, 'BIOC': 0.09192836924862016, 'CFRX': 0.03573758445687472}\n",
      "0.37671060843986753\n"
     ]
    }
   ],
   "source": [
    "beta_weight = -0.2\n",
    "volume_weight = 0.5\n",
    "marketcap_weight = 0.5\n",
    "return_weight = 0.5\n",
    "\n",
    "priority = dict()\n",
    "beta_contributions = list()\n",
    "volume_contributions = list()\n",
    "marketcap_contributions = list()\n",
    "return_contributions = list()\n",
    "\n",
    "\n",
    "\n",
    "for ind, stock in stocks_ridge.iterrows():\n",
    "    beta_contribution = abs(stock.beta)*beta_weight\n",
    "    beta_contributions.append(beta_contribution)\n",
    "    volume_contribution = np.math.log(stock.volume) * volume_weight\n",
    "    volume_contributions.append(volume_contribution)\n",
    "    marketcap_contribution = np.math.log(stock.marketcap) * marketcap_weight\n",
    "    marketcap_contributions.append(marketcap_contribution)\n",
    "    return_contribution = np.math.log10(stock.expected_return)* return_weight\n",
    "    return_contributions.append(return_contribution)\n",
    "    stock_priority = stock.accuracy * (beta_contribution + volume_contribution + marketcap_contribution + return_contribution )\n",
    "    priority[stock.name] = stock_priority\n",
    "\n",
    "\n",
    "\n",
    "stocks_ridge['beta_contribution'] = beta_contributions\n",
    "stocks_ridge['volume_contribution'] = volume_contributions\n",
    "stocks_ridge['marketcap_contribution'] = marketcap_contributions\n",
    "stocks_ridge['return_contribution'] = return_contributions\n",
    "\n",
    "\n",
    "priority = sorted(priority.items(), key=lambda x:x[1],reverse=True)\n",
    "top_priorities = priority[0:10]\n",
    "top_priorities = [item for item in top_priorities if item[1] > 0]\n",
    "normalized_values = dict()\n",
    "for i in top_priorities:\n",
    "    nv = i[1] / sum(j[1] for j in top_priorities)\n",
    "    normalized_values[i[0]] = nv\n",
    "    \n",
    "print(normalized_values)\n",
    "\n",
    "portfolio_beta = 0\n",
    "for i in normalized_values.keys():\n",
    "    portfolio_beta = portfolio_beta + normalized_values[i]*stocks_ridge.loc[i]['beta']\n",
    "\n",
    "print(portfolio_beta)"
   ]
  },
  {
   "cell_type": "code",
   "execution_count": 20,
   "metadata": {},
   "outputs": [
    {
     "name": "stdout",
     "output_type": "stream",
     "text": [
      "Overall return\n",
      "-0.07236999628134885\n"
     ]
    }
   ],
   "source": [
    "portfolio_return = 0.0\n",
    "for i in normalized_values.keys():\n",
    "    temp = d.loc[i]\n",
    "    start_date = temp.loc[temp.loc[:]['Time'] == '2015-11-25'].iloc[0]\n",
    "    end_date = temp.loc[temp.loc[:]['Time'] >= '2015-12-25'].iloc[0]\n",
    "    ret_val = (end_date['c'] - start_date['o'])/start_date['o']\n",
    "    portfolio_return += ret_val*normalized_values[i]\n",
    "    \n",
    "print('Overall return')\n",
    "print(portfolio_return)"
   ]
  },
  {
   "cell_type": "code",
   "execution_count": 21,
   "metadata": {},
   "outputs": [
    {
     "data": {
      "text/plain": [
       "dict_keys(['CFMS', 'CHEK', 'TTNP', 'BIOC', 'CFRX'])"
      ]
     },
     "execution_count": 21,
     "metadata": {},
     "output_type": "execute_result"
    }
   ],
   "source": [
    "normalized_values.keys()"
   ]
  },
  {
   "cell_type": "code",
   "execution_count": 22,
   "metadata": {
    "tags": []
   },
   "outputs": [
    {
     "name": "stdout",
     "output_type": "stream",
     "text": [
      "Overall return 0.043509093334462914\n",
      "--------------------------------------------------\n",
      "Overall return -0.03587698273302806\n",
      "--------------------------------------------------\n",
      "Overall return -0.16371890797318453\n",
      "--------------------------------------------------\n",
      "Overall return 0.06298335862624894\n",
      "--------------------------------------------------\n",
      "Overall return -0.03581132545975131\n",
      "--------------------------------------------------\n",
      "Overall return 0.15084741190783804\n",
      "--------------------------------------------------\n",
      "Overall return 0.06565892132756193\n",
      "--------------------------------------------------\n",
      "Overall return 0.06598961500585004\n",
      "--------------------------------------------------\n",
      "Overall return 0.007782874849552916\n",
      "--------------------------------------------------\n",
      "Overall return -0.0327191958317937\n",
      "--------------------------------------------------\n"
     ]
    }
   ],
   "source": [
    "import numpy as np, numpy.random\n",
    "\n",
    "for i in range(10): \n",
    "    \n",
    "    portfolio_return = 0.0 \n",
    "    ad = np.random.dirichlet(np.ones(6),size=1)\n",
    "    da = ad.tolist()[0]\n",
    "    randoms = {'CFRX' : da[0], 'CHEK': da[1], 'CFMS': da[2], 'TTNP' : da[3], 'BIOC' : da[4], 'AVGR' : da[5]}\n",
    "\n",
    "\n",
    "    for i in randoms.keys():\n",
    "        temp = d.loc[i]\n",
    "        start_date = temp.loc[temp.loc[:]['Time'] == '2015-11-25'].iloc[0]\n",
    "        end_date = temp.loc[temp.loc[:]['Time'] >= '2015-12-25'].iloc[0]\n",
    "        ret_val = (end_date['c'] - start_date['o'])/start_date['o']\n",
    "        portfolio_return += ret_val*randoms[i]\n",
    "\n",
    "    print(f'Overall return {portfolio_return}')\n",
    "    #print(randoms)\n",
    "    print('-' * 50)"
   ]
  },
  {
   "cell_type": "code",
   "execution_count": 181,
   "metadata": {},
   "outputs": [
    {
     "data": {
      "text/plain": [
       "{'CFRX': 0.08430215061741332,\n",
       " 'CHEK': 0.19448913451118133,\n",
       " 'CFMS': 0.04942539857790324,\n",
       " 'TTNP': 0.08180386826029917,\n",
       " 'BIOC': 0.22940429636983817,\n",
       " 'AVGR': 0.3605751516633648}"
      ]
     },
     "execution_count": 181,
     "metadata": {},
     "output_type": "execute_result"
    }
   ],
   "source": [
    "randoms"
   ]
  },
  {
   "cell_type": "code",
   "execution_count": 182,
   "metadata": {},
   "outputs": [
    {
     "data": {
      "text/plain": [
       "24076111"
      ]
     },
     "execution_count": 182,
     "metadata": {},
     "output_type": "execute_result"
    }
   ],
   "source": [
    "len(d)"
   ]
  }
 ],
 "metadata": {
  "environment": {
   "kernel": "python3",
   "name": "common-cpu.m103",
   "type": "gcloud",
   "uri": "gcr.io/deeplearning-platform-release/base-cpu:m103"
  },
  "kernelspec": {
   "display_name": "Python 3",
   "language": "python",
   "name": "python3"
  },
  "language_info": {
   "codemirror_mode": {
    "name": "ipython",
    "version": 3
   },
   "file_extension": ".py",
   "mimetype": "text/x-python",
   "name": "python",
   "nbconvert_exporter": "python",
   "pygments_lexer": "ipython3",
   "version": "3.7.12"
  }
 },
 "nbformat": 4,
 "nbformat_minor": 4
}
