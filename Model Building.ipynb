{
 "cells": [
  {
   "cell_type": "code",
   "execution_count": 119,
   "id": "56b3c5ba-49e5-4abd-ad41-69963263d5cc",
   "metadata": {},
   "outputs": [],
   "source": [
    "import numpy as n\n",
    "n.random.seed(74)\n",
    "import pandas as p\n",
    "import joblib\n",
    "from sklearn.model_selection import train_test_split\n",
    "from sklearn.linear_model import LinearRegression\n",
    "from sklearn.linear_model import Ridge\n",
    "from sklearn.linear_model import Lasso\n",
    "\n",
    "df = p.read_csv('gs://vertexaioutputs/Training Set Two Million Updated.csv')"
   ]
  },
  {
   "cell_type": "code",
   "execution_count": 118,
   "id": "b1286618-ca26-4b93-8315-acc22dbdbf04",
   "metadata": {},
   "outputs": [],
   "source": [
    "X = df[['BETA_SEC3M', 'BETA_MRKT3M', 'ER_MRKT3M', 'ER_SEC3M', 'RFR3M']]\n",
    "Y = df[['AR_3M']]"
   ]
  },
  {
   "cell_type": "code",
   "execution_count": 116,
   "id": "568b94b5-d41a-48da-9ad3-bc7888bb289f",
   "metadata": {},
   "outputs": [],
   "source": [
    "X_train, X_test, y_train, y_test = train_test_split(X, Y, test_size = 0.2, shuffle = False)"
   ]
  },
  {
   "cell_type": "code",
   "execution_count": 110,
   "id": "cab71ff9-a38b-48e3-8a68-28edb1ff5441",
   "metadata": {},
   "outputs": [
    {
     "name": "stdout",
     "output_type": "stream",
     "text": [
      "0.003820184589111708\n"
     ]
    }
   ],
   "source": [
    "regr = LinearRegression()\n",
    "regr.fit(X_train, y_train)\n",
    "print(regr.score(X_test, y_test))"
   ]
  },
  {
   "cell_type": "code",
   "execution_count": 111,
   "id": "e9d8c875-e4a5-4028-bc2b-50ece2025eb8",
   "metadata": {},
   "outputs": [
    {
     "name": "stdout",
     "output_type": "stream",
     "text": [
      "0.003820184577386976\n"
     ]
    }
   ],
   "source": [
    "rr = Ridge(alpha=0.9)\n",
    "rr.fit(X_train, y_train)\n",
    "print(rr.score(X_test, y_test))"
   ]
  },
  {
   "cell_type": "code",
   "execution_count": 112,
   "id": "d334d6ce-96c4-441e-90ae-f83fe64c47b9",
   "metadata": {},
   "outputs": [
    {
     "name": "stdout",
     "output_type": "stream",
     "text": [
      "0.003674184205834319\n"
     ]
    }
   ],
   "source": [
    "model_lasso = Lasso(alpha=0.9)\n",
    "model_lasso.fit(X_train, y_train)\n",
    "print(model_lasso.score(X_test, y_test))"
   ]
  },
  {
   "cell_type": "code",
   "execution_count": 113,
   "id": "beaf8b43-3ea4-4096-9f54-516668e05975",
   "metadata": {},
   "outputs": [
    {
     "data": {
      "text/plain": [
       "['Lasso VII 3M.pkl']"
      ]
     },
     "execution_count": 113,
     "metadata": {},
     "output_type": "execute_result"
    }
   ],
   "source": [
    "# Save the model as a pickle in a file\n",
    "joblib.dump(regr, 'LinReg VII 3M.pkl')\n",
    "joblib.dump(rr, 'Ridge VII 3M.pkl')\n",
    "joblib.dump(model_lasso, 'Lasso VII 3M.pkl')"
   ]
  },
  {
   "cell_type": "code",
   "execution_count": 81,
   "id": "468a07b6-93b4-4024-99d0-112b6cb4ee72",
   "metadata": {},
   "outputs": [
    {
     "name": "stdout",
     "output_type": "stream",
     "text": [
      "       feature       VIF\n",
      "0   BETA_SEC1M  1.000087\n",
      "1  BETA_MRKT1M  1.001837\n",
      "2    ER_MRKT1M  1.424458\n",
      "3     ER_SEC1M  1.385540\n",
      "4        RFR1M  1.035715\n"
     ]
    }
   ],
   "source": [
    "from statsmodels.stats.outliers_influence import variance_inflation_factor\n",
    "\n",
    "\n",
    "\n",
    "# VIF dataframe\n",
    "vif_data = p.DataFrame()\n",
    "vif_data[\"feature\"] = X.columns\n",
    "  \n",
    "# calculating VIF for each feature\n",
    "vif_data[\"VIF\"] = [variance_inflation_factor(X.values, i)\n",
    "                          for i in range(len(X.columns))]\n",
    "  \n",
    "print(vif_data)\n",
    "\n"
   ]
  },
  {
   "cell_type": "code",
   "execution_count": 31,
   "id": "8ed5910a-b318-44a5-abee-c50c3f7a9543",
   "metadata": {},
   "outputs": [],
   "source": [
    "df.head(10)"
   ]
  },
  {
   "cell_type": "code",
   "execution_count": 32,
   "id": "6c276d18-753c-4d6f-ab4e-6243018140f1",
   "metadata": {},
   "outputs": [],
   "source": [
    "rfr = p.read_csv('gs://vertexaioutputs/Stock Table.csv')\n",
    "rfr.columns = ['ticker', 'Time', 'vw', 'rfr1m', 'rfr3m', 'rfr6m', 'rfr1y', 'rfr5y']\n",
    "rfr = rfr[['Time', 'rfr1m', 'rfr3m', 'rfr6m', 'rfr1y', 'rfr5y']]\n",
    "rfr = rfr.drop_duplicates(subset = \"Time\")\n",
    "rfr.to_csv('rfr_dropdups.csv', index=False)"
   ]
  },
  {
   "cell_type": "code",
   "execution_count": 34,
   "id": "6999d888-5411-4822-a4c4-ac9de7f4e7a7",
   "metadata": {},
   "outputs": [],
   "source": [
    "import datetime\n",
    "\n",
    "fd = p.read_csv('1679257202864.csv')\n",
    "\n",
    "date = []\n",
    "for i in fd['t']:\n",
    "    f = datetime.datetime.fromtimestamp(i/1000).strftime('%Y-%m-%d')\n",
    "    date.append(f)\n",
    "fd['Time'] = date\n",
    "fd = fd.drop('t', axis = 1)"
   ]
  },
  {
   "cell_type": "code",
   "execution_count": 35,
   "id": "b13b6a01-8563-4b77-8118-0923f73f5bcd",
   "metadata": {},
   "outputs": [],
   "source": [
    "fd.to_csv('SPY 2009.csv', index = False)"
   ]
  },
  {
   "cell_type": "code",
   "execution_count": 117,
   "id": "d79f4d5a-8f66-4b3d-a5af-4a655f9a8204",
   "metadata": {},
   "outputs": [
    {
     "data": {
      "text/html": [
       "<div>\n",
       "<style scoped>\n",
       "    .dataframe tbody tr th:only-of-type {\n",
       "        vertical-align: middle;\n",
       "    }\n",
       "\n",
       "    .dataframe tbody tr th {\n",
       "        vertical-align: top;\n",
       "    }\n",
       "\n",
       "    .dataframe thead th {\n",
       "        text-align: right;\n",
       "    }\n",
       "</style>\n",
       "<table border=\"1\" class=\"dataframe\">\n",
       "  <thead>\n",
       "    <tr style=\"text-align: right;\">\n",
       "      <th></th>\n",
       "      <th>BETA_SEC3M</th>\n",
       "      <th>BETA_MRKT3M</th>\n",
       "      <th>ER_MRKT3M</th>\n",
       "      <th>ER_SEC3M</th>\n",
       "      <th>RFR3M</th>\n",
       "      <th>Time</th>\n",
       "    </tr>\n",
       "  </thead>\n",
       "  <tbody>\n",
       "    <tr>\n",
       "      <th>1999996</th>\n",
       "      <td>-0.167762</td>\n",
       "      <td>-0.000429</td>\n",
       "      <td>865.39867</td>\n",
       "      <td>3.772554</td>\n",
       "      <td>0.08</td>\n",
       "      <td>2009-07-20</td>\n",
       "    </tr>\n",
       "    <tr>\n",
       "      <th>1999997</th>\n",
       "      <td>-0.120365</td>\n",
       "      <td>-0.000308</td>\n",
       "      <td>865.39867</td>\n",
       "      <td>3.772554</td>\n",
       "      <td>0.08</td>\n",
       "      <td>2009-07-20</td>\n",
       "    </tr>\n",
       "    <tr>\n",
       "      <th>1999998</th>\n",
       "      <td>-0.055342</td>\n",
       "      <td>-0.000141</td>\n",
       "      <td>865.39867</td>\n",
       "      <td>3.772554</td>\n",
       "      <td>0.08</td>\n",
       "      <td>2009-07-20</td>\n",
       "    </tr>\n",
       "    <tr>\n",
       "      <th>1999999</th>\n",
       "      <td>-0.128249</td>\n",
       "      <td>-0.000328</td>\n",
       "      <td>865.39867</td>\n",
       "      <td>3.772554</td>\n",
       "      <td>0.08</td>\n",
       "      <td>2009-07-20</td>\n",
       "    </tr>\n",
       "  </tbody>\n",
       "</table>\n",
       "</div>"
      ],
      "text/plain": [
       "         BETA_SEC3M  BETA_MRKT3M  ER_MRKT3M  ER_SEC3M  RFR3M        Time\n",
       "1999996   -0.167762    -0.000429  865.39867  3.772554   0.08  2009-07-20\n",
       "1999997   -0.120365    -0.000308  865.39867  3.772554   0.08  2009-07-20\n",
       "1999998   -0.055342    -0.000141  865.39867  3.772554   0.08  2009-07-20\n",
       "1999999   -0.128249    -0.000328  865.39867  3.772554   0.08  2009-07-20"
      ]
     },
     "execution_count": 117,
     "metadata": {},
     "output_type": "execute_result"
    }
   ],
   "source": [
    "X_test.tail(4)"
   ]
  },
  {
   "cell_type": "code",
   "execution_count": null,
   "id": "ef6a3422-57ca-4f04-9cb4-561e95f65e2a",
   "metadata": {},
   "outputs": [],
   "source": []
  }
 ],
 "metadata": {
  "environment": {
   "kernel": "python3",
   "name": "common-cpu.m103",
   "type": "gcloud",
   "uri": "gcr.io/deeplearning-platform-release/base-cpu:m103"
  },
  "kernelspec": {
   "display_name": "Python 3",
   "language": "python",
   "name": "python3"
  },
  "language_info": {
   "codemirror_mode": {
    "name": "ipython",
    "version": 3
   },
   "file_extension": ".py",
   "mimetype": "text/x-python",
   "name": "python",
   "nbconvert_exporter": "python",
   "pygments_lexer": "ipython3",
   "version": "3.7.12"
  }
 },
 "nbformat": 4,
 "nbformat_minor": 5
}
