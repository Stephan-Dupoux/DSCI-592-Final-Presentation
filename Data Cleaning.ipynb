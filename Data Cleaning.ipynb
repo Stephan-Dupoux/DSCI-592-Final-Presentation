{
 "cells": [
  {
   "cell_type": "code",
   "execution_count": 4,
   "id": "1b0e4a79-83a0-405b-837c-c8efb9ae1e81",
   "metadata": {},
   "outputs": [],
   "source": [
    "import pandas as p"
   ]
  },
  {
   "cell_type": "code",
   "execution_count": 10,
   "id": "08a900a6-59d3-4069-baeb-0e4aaf076a7b",
   "metadata": {
    "collapsed": true,
    "jupyter": {
     "outputs_hidden": true
    },
    "tags": []
   },
   "outputs": [
    {
     "ename": "KeyError",
     "evalue": "'Time'",
     "output_type": "error",
     "traceback": [
      "\u001b[0;31m---------------------------------------------------------------------------\u001b[0m",
      "\u001b[0;31mKeyError\u001b[0m                                  Traceback (most recent call last)",
      "\u001b[0;32m/opt/conda/lib/python3.7/site-packages/pandas/core/indexes/base.py\u001b[0m in \u001b[0;36mget_loc\u001b[0;34m(self, key, method, tolerance)\u001b[0m\n\u001b[1;32m   3360\u001b[0m             \u001b[0;32mtry\u001b[0m\u001b[0;34m:\u001b[0m\u001b[0;34m\u001b[0m\u001b[0;34m\u001b[0m\u001b[0m\n\u001b[0;32m-> 3361\u001b[0;31m                 \u001b[0;32mreturn\u001b[0m \u001b[0mself\u001b[0m\u001b[0;34m.\u001b[0m\u001b[0m_engine\u001b[0m\u001b[0;34m.\u001b[0m\u001b[0mget_loc\u001b[0m\u001b[0;34m(\u001b[0m\u001b[0mcasted_key\u001b[0m\u001b[0;34m)\u001b[0m\u001b[0;34m\u001b[0m\u001b[0;34m\u001b[0m\u001b[0m\n\u001b[0m\u001b[1;32m   3362\u001b[0m             \u001b[0;32mexcept\u001b[0m \u001b[0mKeyError\u001b[0m \u001b[0;32mas\u001b[0m \u001b[0merr\u001b[0m\u001b[0;34m:\u001b[0m\u001b[0;34m\u001b[0m\u001b[0;34m\u001b[0m\u001b[0m\n",
      "\u001b[0;32m/opt/conda/lib/python3.7/site-packages/pandas/_libs/index.pyx\u001b[0m in \u001b[0;36mpandas._libs.index.IndexEngine.get_loc\u001b[0;34m()\u001b[0m\n",
      "\u001b[0;32m/opt/conda/lib/python3.7/site-packages/pandas/_libs/index.pyx\u001b[0m in \u001b[0;36mpandas._libs.index.IndexEngine.get_loc\u001b[0;34m()\u001b[0m\n",
      "\u001b[0;32mpandas/_libs/hashtable_class_helper.pxi\u001b[0m in \u001b[0;36mpandas._libs.hashtable.PyObjectHashTable.get_item\u001b[0;34m()\u001b[0m\n",
      "\u001b[0;32mpandas/_libs/hashtable_class_helper.pxi\u001b[0m in \u001b[0;36mpandas._libs.hashtable.PyObjectHashTable.get_item\u001b[0;34m()\u001b[0m\n",
      "\u001b[0;31mKeyError\u001b[0m: 'Time'",
      "\nThe above exception was the direct cause of the following exception:\n",
      "\u001b[0;31mKeyError\u001b[0m                                  Traceback (most recent call last)",
      "\u001b[0;32m/var/tmp/ipykernel_2097/1303070609.py\u001b[0m in \u001b[0;36m<module>\u001b[0;34m\u001b[0m\n\u001b[1;32m      1\u001b[0m \u001b[0mdf\u001b[0m \u001b[0;34m=\u001b[0m \u001b[0mp\u001b[0m\u001b[0;34m.\u001b[0m\u001b[0mread_csv\u001b[0m\u001b[0;34m(\u001b[0m\u001b[0;34m\"gs://vertexaioutputs/Historical Financial Data With ER and AR Calulated Updated.csv\"\u001b[0m\u001b[0;34m,\u001b[0m \u001b[0musecols\u001b[0m\u001b[0;34m=\u001b[0m \u001b[0;34m[\u001b[0m\u001b[0;34m'ER_1M'\u001b[0m\u001b[0;34m,\u001b[0m\u001b[0;34m'AR_1M'\u001b[0m\u001b[0;34m]\u001b[0m\u001b[0;34m)\u001b[0m\u001b[0;34m\u001b[0m\u001b[0;34m\u001b[0m\u001b[0m\n\u001b[0;32m----> 2\u001b[0;31m \u001b[0mdf\u001b[0m \u001b[0;34m=\u001b[0m \u001b[0mdf\u001b[0m\u001b[0;34m[\u001b[0m\u001b[0;34m(\u001b[0m\u001b[0mdf\u001b[0m\u001b[0;34m[\u001b[0m\u001b[0;34m'Time'\u001b[0m\u001b[0;34m]\u001b[0m \u001b[0;34m>\u001b[0m \u001b[0;34m'2007-01-01'\u001b[0m\u001b[0;34m)\u001b[0m \u001b[0;34m&\u001b[0m \u001b[0;34m(\u001b[0m\u001b[0mdf\u001b[0m\u001b[0;34m[\u001b[0m\u001b[0;34m'Time'\u001b[0m\u001b[0;34m]\u001b[0m \u001b[0;34m<\u001b[0m \u001b[0;34m'2022-08-31'\u001b[0m\u001b[0;34m)\u001b[0m\u001b[0;34m]\u001b[0m\u001b[0;34m\u001b[0m\u001b[0;34m\u001b[0m\u001b[0m\n\u001b[0m\u001b[1;32m      3\u001b[0m \u001b[0mrfr\u001b[0m \u001b[0;34m=\u001b[0m \u001b[0mp\u001b[0m\u001b[0;34m.\u001b[0m\u001b[0mread_csv\u001b[0m\u001b[0;34m(\u001b[0m\u001b[0;34m'gs://vertexaioutputs/Stock Table.csv'\u001b[0m\u001b[0;34m)\u001b[0m\u001b[0;34m\u001b[0m\u001b[0;34m\u001b[0m\u001b[0m\n\u001b[1;32m      4\u001b[0m \u001b[0mrfr\u001b[0m\u001b[0;34m.\u001b[0m\u001b[0mcolumns\u001b[0m \u001b[0;34m=\u001b[0m \u001b[0;34m[\u001b[0m\u001b[0;34m'ticker'\u001b[0m\u001b[0;34m,\u001b[0m \u001b[0;34m'Time'\u001b[0m\u001b[0;34m,\u001b[0m \u001b[0;34m'vw'\u001b[0m\u001b[0;34m,\u001b[0m \u001b[0;34m'rfr1m'\u001b[0m\u001b[0;34m,\u001b[0m \u001b[0;34m'rfr3m'\u001b[0m\u001b[0;34m,\u001b[0m \u001b[0;34m'rfr6m'\u001b[0m\u001b[0;34m,\u001b[0m \u001b[0;34m'rfr1y'\u001b[0m\u001b[0;34m,\u001b[0m \u001b[0;34m'rfr5y'\u001b[0m\u001b[0;34m]\u001b[0m\u001b[0;34m\u001b[0m\u001b[0;34m\u001b[0m\u001b[0m\n\u001b[1;32m      5\u001b[0m \u001b[0mrfr\u001b[0m \u001b[0;34m=\u001b[0m \u001b[0mrfr\u001b[0m\u001b[0;34m[\u001b[0m\u001b[0;34m[\u001b[0m\u001b[0;34m'Time'\u001b[0m\u001b[0;34m,\u001b[0m \u001b[0;34m'rfr1m'\u001b[0m\u001b[0;34m,\u001b[0m \u001b[0;34m'rfr3m'\u001b[0m\u001b[0;34m,\u001b[0m \u001b[0;34m'rfr6m'\u001b[0m\u001b[0;34m,\u001b[0m \u001b[0;34m'rfr1y'\u001b[0m\u001b[0;34m,\u001b[0m \u001b[0;34m'rfr5y'\u001b[0m\u001b[0;34m]\u001b[0m\u001b[0;34m]\u001b[0m\u001b[0;34m\u001b[0m\u001b[0;34m\u001b[0m\u001b[0m\n",
      "\u001b[0;32m/opt/conda/lib/python3.7/site-packages/pandas/core/frame.py\u001b[0m in \u001b[0;36m__getitem__\u001b[0;34m(self, key)\u001b[0m\n\u001b[1;32m   3456\u001b[0m             \u001b[0;32mif\u001b[0m \u001b[0mself\u001b[0m\u001b[0;34m.\u001b[0m\u001b[0mcolumns\u001b[0m\u001b[0;34m.\u001b[0m\u001b[0mnlevels\u001b[0m \u001b[0;34m>\u001b[0m \u001b[0;36m1\u001b[0m\u001b[0;34m:\u001b[0m\u001b[0;34m\u001b[0m\u001b[0;34m\u001b[0m\u001b[0m\n\u001b[1;32m   3457\u001b[0m                 \u001b[0;32mreturn\u001b[0m \u001b[0mself\u001b[0m\u001b[0;34m.\u001b[0m\u001b[0m_getitem_multilevel\u001b[0m\u001b[0;34m(\u001b[0m\u001b[0mkey\u001b[0m\u001b[0;34m)\u001b[0m\u001b[0;34m\u001b[0m\u001b[0;34m\u001b[0m\u001b[0m\n\u001b[0;32m-> 3458\u001b[0;31m             \u001b[0mindexer\u001b[0m \u001b[0;34m=\u001b[0m \u001b[0mself\u001b[0m\u001b[0;34m.\u001b[0m\u001b[0mcolumns\u001b[0m\u001b[0;34m.\u001b[0m\u001b[0mget_loc\u001b[0m\u001b[0;34m(\u001b[0m\u001b[0mkey\u001b[0m\u001b[0;34m)\u001b[0m\u001b[0;34m\u001b[0m\u001b[0;34m\u001b[0m\u001b[0m\n\u001b[0m\u001b[1;32m   3459\u001b[0m             \u001b[0;32mif\u001b[0m \u001b[0mis_integer\u001b[0m\u001b[0;34m(\u001b[0m\u001b[0mindexer\u001b[0m\u001b[0;34m)\u001b[0m\u001b[0;34m:\u001b[0m\u001b[0;34m\u001b[0m\u001b[0;34m\u001b[0m\u001b[0m\n\u001b[1;32m   3460\u001b[0m                 \u001b[0mindexer\u001b[0m \u001b[0;34m=\u001b[0m \u001b[0;34m[\u001b[0m\u001b[0mindexer\u001b[0m\u001b[0;34m]\u001b[0m\u001b[0;34m\u001b[0m\u001b[0;34m\u001b[0m\u001b[0m\n",
      "\u001b[0;32m/opt/conda/lib/python3.7/site-packages/pandas/core/indexes/base.py\u001b[0m in \u001b[0;36mget_loc\u001b[0;34m(self, key, method, tolerance)\u001b[0m\n\u001b[1;32m   3361\u001b[0m                 \u001b[0;32mreturn\u001b[0m \u001b[0mself\u001b[0m\u001b[0;34m.\u001b[0m\u001b[0m_engine\u001b[0m\u001b[0;34m.\u001b[0m\u001b[0mget_loc\u001b[0m\u001b[0;34m(\u001b[0m\u001b[0mcasted_key\u001b[0m\u001b[0;34m)\u001b[0m\u001b[0;34m\u001b[0m\u001b[0;34m\u001b[0m\u001b[0m\n\u001b[1;32m   3362\u001b[0m             \u001b[0;32mexcept\u001b[0m \u001b[0mKeyError\u001b[0m \u001b[0;32mas\u001b[0m \u001b[0merr\u001b[0m\u001b[0;34m:\u001b[0m\u001b[0;34m\u001b[0m\u001b[0;34m\u001b[0m\u001b[0m\n\u001b[0;32m-> 3363\u001b[0;31m                 \u001b[0;32mraise\u001b[0m \u001b[0mKeyError\u001b[0m\u001b[0;34m(\u001b[0m\u001b[0mkey\u001b[0m\u001b[0;34m)\u001b[0m \u001b[0;32mfrom\u001b[0m \u001b[0merr\u001b[0m\u001b[0;34m\u001b[0m\u001b[0;34m\u001b[0m\u001b[0m\n\u001b[0m\u001b[1;32m   3364\u001b[0m \u001b[0;34m\u001b[0m\u001b[0m\n\u001b[1;32m   3365\u001b[0m         \u001b[0;32mif\u001b[0m \u001b[0mis_scalar\u001b[0m\u001b[0;34m(\u001b[0m\u001b[0mkey\u001b[0m\u001b[0;34m)\u001b[0m \u001b[0;32mand\u001b[0m \u001b[0misna\u001b[0m\u001b[0;34m(\u001b[0m\u001b[0mkey\u001b[0m\u001b[0;34m)\u001b[0m \u001b[0;32mand\u001b[0m \u001b[0;32mnot\u001b[0m \u001b[0mself\u001b[0m\u001b[0;34m.\u001b[0m\u001b[0mhasnans\u001b[0m\u001b[0;34m:\u001b[0m\u001b[0;34m\u001b[0m\u001b[0;34m\u001b[0m\u001b[0m\n",
      "\u001b[0;31mKeyError\u001b[0m: 'Time'"
     ]
    }
   ],
   "source": [
    "df = p.read_csv(\"gs://vertexaioutputs/Historical Financial Data With ER and AR Calulated Updated.csv\")\n",
    "df = df[(df['Time'] > '2007-01-01') & (df['Time'] < '2022-08-31')]\n",
    "rfr = p.read_csv('gs://vertexaioutputs/Stock Table.csv')\n",
    "rfr.columns = ['ticker', 'Time', 'vw', 'rfr1m', 'rfr3m', 'rfr6m', 'rfr1y', 'rfr5y']\n",
    "rfr = rfr[['Time', 'rfr1m', 'rfr3m', 'rfr6m', 'rfr1y', 'rfr5y']]\n",
    "rfr = rfr.drop_duplicates(subset = \"Time\")"
   ]
  },
  {
   "cell_type": "code",
   "execution_count": 3,
   "id": "9228dd4e-71c7-4997-b5d3-2cfb679f6f40",
   "metadata": {},
   "outputs": [],
   "source": [
    "penis = p.merge(df, rfr, on='Time')\n",
    "del df"
   ]
  },
  {
   "cell_type": "code",
   "execution_count": 4,
   "id": "a0e7f0e8-985e-467c-9cce-9a49f6c0935e",
   "metadata": {},
   "outputs": [
    {
     "name": "stdout",
     "output_type": "stream",
     "text": [
      "16117712\n"
     ]
    }
   ],
   "source": [
    "#[['BETA_SEC1M', 'BETA_MRKT1M', 'ER_MRKT1M', 'ER_SEC1M', 'RFR1M']]\n",
    "DF = penis[['Ticker', 'Sector', 'Time', 'ER_1M',\n",
    "       'AR_1M', 'ER_3M', 'AR_3M', 'ER_6M', 'AR_6M', 'ER_1Y', 'AR_1Y', 'ER_5Y',\n",
    "       'AR_5Y', 'rfr1m', 'rfr3m', 'rfr6m', 'rfr1y', 'rfr5y']]\n",
    "del penis\n",
    "\n",
    "print(len(DF))"
   ]
  },
  {
   "cell_type": "code",
   "execution_count": 5,
   "id": "eba9e679-920f-430a-b168-fc7df1282e75",
   "metadata": {
    "tags": []
   },
   "outputs": [],
   "source": [
    "zz = ['ER_MRKT1M', 'ER_MRKT3M', 'ER_MRKT6M', 'ER_MRKT1Y', 'ER_MRKT5Y']\n",
    "yy = ['ER_SEC1M', 'ER_SEC3M', 'ER_SEC6M', 'ER_SEC1Y', 'ER_SEC5Y']\n",
    "secs = ['Basic Materials', 'Communication Services', 'Consumer Cyclical',\n",
    "       'Consumer Defensive', 'Energy', 'Financial Services', 'Healthcare',\n",
    "       'Industrial', 'Real Estate', 'Sector Unknown', 'Technology',\n",
    "       'Utilities']\n",
    "\n",
    "aa = ['ER_1M','ER_3M', 'ER_6M', 'ER_1Y','ER_5Y']\n",
    "\n",
    "datas = p.DataFrame()\n",
    "for i, j in zip(aa, zz):\n",
    "    a = DF.groupby(['Time'])[i].sum().reset_index()\n",
    "    datas[j] = a[i]\n",
    "datas['Time'] = a['Time']\n",
    "\n",
    "DF = p.merge(DF, datas, on='Time', how = 'left')\n",
    "del datas   \n",
    "del a"
   ]
  },
  {
   "cell_type": "markdown",
   "id": "03914878-623f-4d05-9670-c0b89cc73e6e",
   "metadata": {},
   "source": [
    "# Getting Expected Return of the Sector"
   ]
  },
  {
   "cell_type": "code",
   "execution_count": 6,
   "id": "624a677b-42e2-47d8-87ef-67752f9e2c7a",
   "metadata": {},
   "outputs": [],
   "source": [
    "def calc_ERS(data,tf):\n",
    "    ERS = []\n",
    "    new = data.groupby(['Time', 'Sector'])[tf].sum().reset_index()\n",
    "    for i,j in zip(data['Time'], data['Sector']):\n",
    "        ERS.append(float(new.loc[(new['Sector'] == j) & (new['Time'] == i)][tf]))\n",
    "    print(j)\n",
    "    return ERS\n"
   ]
  },
  {
   "cell_type": "code",
   "execution_count": 7,
   "id": "f3d343cd-374b-4b5d-beda-5d7b39789cf4",
   "metadata": {
    "tags": []
   },
   "outputs": [
    {
     "name": "stdout",
     "output_type": "stream",
     "text": [
      "Sector Unknown\n",
      "Done with 1M\n",
      "Sector Unknown\n",
      "Done with 3M\n",
      "Sector Unknown\n",
      "Done with 6M\n",
      "Sector Unknown\n",
      "Done with 1Y\n",
      "Sector Unknown\n",
      "Done with 5Y\n"
     ]
    }
   ],
   "source": [
    "DF = DF.head(2000000)\n",
    "\n",
    "DF['ER_SEC1M'] = calc_ERS(DF,'ER_1M')\n",
    "print('Done with 1M')\n",
    "DF['ER_SEC3M'] = calc_ERS(DF,'ER_3M')\n",
    "print('Done with 3M')\n",
    "DF['ER_SEC6M'] = calc_ERS(DF,'ER_6M')\n",
    "print('Done with 6M')\n",
    "DF['ER_SEC1Y'] = calc_ERS(DF,'ER_1Y')\n",
    "print('Done with 1Y')\n",
    "DF['ER_SEC5Y'] = calc_ERS(DF,'ER_5Y')\n",
    "print('Done with 5Y')"
   ]
  },
  {
   "cell_type": "code",
   "execution_count": 8,
   "id": "4dfe0b23-cd9f-48c8-b62e-5f0a3d68190b",
   "metadata": {},
   "outputs": [],
   "source": [
    "DF.to_csv('gs://vertexaioutputs/Historical Financial Data With ER and AR Calulated for Market and Sectors Updated.csv', index = False)"
   ]
  },
  {
   "cell_type": "code",
   "execution_count": 5,
   "id": "05dfe6e4-9754-42a8-b3fc-82f2f2f27e4a",
   "metadata": {},
   "outputs": [],
   "source": [
    "# Beta = (Expected Return of the Stock - RFR)/(Expected Return of the market - RFR)\n",
    "\n",
    "DF = p.read_csv('gs://vertexaioutputs/Historical Financial Data With ER and AR Calulated for Market and Sectors Updated.csv')\n",
    "df = p.DataFrame()\n",
    "\n",
    "df['Time'] = DF['Time']\n",
    "df['Ticker'] = DF['Ticker']\n",
    "df['Sector'] = DF['Sector']\n",
    "\n",
    "df['BETA_SEC1M'] = (DF['ER_1M']-DF['rfr1m'])/(DF['ER_SEC1M']-DF['rfr1m'])\n",
    "df['BETA_MRKT1M'] = (DF['ER_1M']-DF['rfr1m'])/(DF['ER_MRKT1M']-DF['rfr1m'])\n",
    "\n",
    "df['BETA_SEC3M'] = (DF['ER_3M']-DF['rfr3m'])/(DF['ER_SEC1M']-DF['rfr3m'])\n",
    "df['BETA_MRKT3M'] = (DF['ER_3M']-DF['rfr3m'])/(DF['ER_MRKT1M']-DF['rfr3m'])\n",
    "\n",
    "df['BETA_SEC6M'] = (DF['ER_6M']-DF['rfr6m'])/(DF['ER_SEC1M']-DF['rfr6m'])\n",
    "df['BETA_MRKT6M'] = (DF['ER_6M']-DF['rfr6m'])/(DF['ER_MRKT1M']-DF['rfr6m'])\n",
    "\n",
    "df['BETA_SEC1Y'] = (DF['ER_1Y']-DF['rfr1y'])/(DF['ER_SEC1M']-DF['rfr1y'])\n",
    "df['BETA_MRKT1Y'] = (DF['ER_1Y']-DF['rfr1y'])/(DF['ER_MRKT1M']-DF['rfr1y'])\n",
    "\n",
    "df['BETA_SEC5Y'] = (DF['ER_5Y']-DF['rfr5y'])/(DF['ER_SEC1M']-DF['rfr5y'])\n",
    "df['BETA_MRKT5Y'] = (DF['ER_5Y']-DF['rfr5y'])/(DF['ER_MRKT1M']-DF['rfr5y'])\n",
    "\n",
    "df['RFR1M'] = DF['rfr1m']\n",
    "df['RFR3M'] = DF['rfr1m']\n",
    "df['RFR6M'] = DF['rfr1m']\n",
    "df['RFR1Y'] = DF['rfr1m']\n",
    "df['RFR5Y'] = DF['rfr1m']\n",
    "\n",
    "df['ER_SEC1M'] = DF[['ER_SEC1M']]\n",
    "df['ER_SEC3M'] = DF[['ER_SEC3M']]\n",
    "df['ER_SEC6M'] = DF[['ER_SEC6M']]\n",
    "df['ER_SEC1Y'] = DF[['ER_SEC1Y']]\n",
    "df['ER_SEC5Y'] = DF[['ER_SEC5Y']]\n",
    "\n",
    "df['ER_MRKT1M'] = DF[['ER_MRKT1M']]\n",
    "df['ER_MRKT3M'] = DF[['ER_MRKT3M']]\n",
    "df['ER_MRKT6M'] = DF[['ER_MRKT6M']]\n",
    "df['ER_MRKT1Y'] = DF[['ER_MRKT1Y']]\n",
    "df['ER_MRKT5Y'] = DF[['ER_MRKT5Y']]\n",
    "\n",
    "df['AR_1M'] = DF['AR_1M']\n",
    "df['AR_3M'] = DF['AR_3M']\n",
    "df['AR_6M'] = DF['AR_6M']\n",
    "df['AR_1Y'] = DF['AR_1Y']\n",
    "df['AR_5Y'] = DF['AR_5Y']\n",
    "\n",
    "df['ER_1M'] = DF['ER_1M']\n",
    "df['ER_3M'] = DF['ER_3M']\n",
    "df['ER_6M'] = DF['ER_6M']\n",
    "df['ER_1Y'] = DF['ER_1Y']\n",
    "df['ER_5Y'] = DF['ER_5Y']\n",
    "\n",
    "\n",
    "\n",
    "df.to_csv('gs://vertexaioutputs/Training Set Two Million Updated.csv', index = False)"
   ]
  },
  {
   "cell_type": "code",
   "execution_count": null,
   "id": "f0166173-35e6-4174-878d-65193a7aeb6f",
   "metadata": {},
   "outputs": [],
   "source": []
  }
 ],
 "metadata": {
  "environment": {
   "kernel": "python3",
   "name": "common-cpu.m103",
   "type": "gcloud",
   "uri": "gcr.io/deeplearning-platform-release/base-cpu:m103"
  },
  "kernelspec": {
   "display_name": "Python 3",
   "language": "python",
   "name": "python3"
  },
  "language_info": {
   "codemirror_mode": {
    "name": "ipython",
    "version": 3
   },
   "file_extension": ".py",
   "mimetype": "text/x-python",
   "name": "python",
   "nbconvert_exporter": "python",
   "pygments_lexer": "ipython3",
   "version": "3.7.12"
  }
 },
 "nbformat": 4,
 "nbformat_minor": 5
}
