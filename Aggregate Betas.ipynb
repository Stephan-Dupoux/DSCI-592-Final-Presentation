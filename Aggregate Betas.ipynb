{
 "cells": [
  {
   "cell_type": "code",
   "execution_count": 3,
   "id": "b64e63f7-f3e1-4d4a-b4a8-1c131a8853cb",
   "metadata": {},
   "outputs": [],
   "source": [
    "import requests\n",
    "import pandas as p\n",
    "import datetime\n",
    "import json\n",
    "\n",
    "\n",
    "def ER(fd,interval):\n",
    "    er_onem = []\n",
    "    for i in range(0,len(fd)):\n",
    "        if i <= (interval-1):\n",
    "            er_onem.append(0)\n",
    "        else:\n",
    "            try:\n",
    "                ss = dict(fd.iloc[i+interval])\n",
    "                sd = dict(fd.iloc[i])\n",
    "                (ss['c'] - sd['c'])/sd['c']\n",
    "                er_onem.append((ss['c'] - sd['c'])/sd['c'])\n",
    "            except:\n",
    "                er_onem.append(0)\n",
    "    return er_onem\n",
    "\n",
    "def AR(fd,interval):\n",
    "    ar_onem = []\n",
    "    for i in range(0,len(fd)):\n",
    "        if i <= (interval-1):\n",
    "            ar_onem.append(0)\n",
    "        else:\n",
    "            try:\n",
    "                ss = dict(fd.iloc[i])\n",
    "                sd = dict(fd.iloc[i+interval])\n",
    "                ar_onem.append((ss['c'] - sd['c'])/sd['c'])\n",
    "            except:\n",
    "                ar_onem.append(0)\n",
    "    return ar_onem\n",
    "\n"
   ]
  },
  {
   "cell_type": "code",
   "execution_count": null,
   "id": "b9636050-7291-48aa-bf91-2bcd465f0d06",
   "metadata": {
    "tags": []
   },
   "outputs": [
    {
     "name": "stdout",
     "output_type": "stream",
     "text": [
      "Starting\n",
      "Healthcare\n",
      "A\n",
      "AADI\n",
      "AAGH\n",
      "AAVXF\n",
      "AAWH\n",
      "ABBV\n",
      "ABC\n"
     ]
    }
   ],
   "source": [
    "print('Starting')\n",
    "\n",
    "stocks = json.load(open(\"stocks.json\"))\n",
    "Sectors = json.load(open(\"sectors.json\"))['sectors']\n",
    "\n",
    "df = p.DataFrame()\n",
    "for b in Sectors:\n",
    "    print(b)\n",
    "    for i in stocks[\"Stocks\"][b]:\n",
    "        print(i)\n",
    "        ab = requests.get(f\"https://api.polygon.io/v2/aggs/ticker/{i}/range/1/day/2001-01-01/2023-01-09?adjusted=true&sort=asc&limit=50000&apiKey=el0FbXEICAXLDOh_2HHODn_QdqmBj_5WlhdNvp\").json()\n",
    "        try:\n",
    "            fd = p.DataFrame(ab['results'])\n",
    "            fd['Ticker'] = i\n",
    "            fd['Sector'] = b\n",
    "            date = []\n",
    "            for i in fd['t']:\n",
    "                f = datetime.datetime.fromtimestamp(i/1000).strftime('%Y-%m-%d')\n",
    "                date.append(f)\n",
    "            fd['Time'] = date\n",
    "            if len(fd) >= 30:\n",
    "                fd['ER_1M'] = ER(fd,30)\n",
    "                fd['AR_1M'] = AR(fd,30)\n",
    "            if len(fd) >= 90:\n",
    "                fd['ER_3M'] = ER(fd,90)\n",
    "                fd['AR_3M'] = AR(fd,90)\n",
    "            if len(fd) >= 180:\n",
    "                fd['ER_6M'] = ER(fd,180)\n",
    "                fd['AR_6M'] = AR(fd,180)\n",
    "            if len(fd) >= 365:\n",
    "                fd['ER_1Y'] = ER(fd,252)\n",
    "                fd['AR_1Y'] = AR(fd,252)\n",
    "            if len(fd) >= 1825:\n",
    "                fd['ER_5Y'] = ER(fd,1260)\n",
    "                fd['AR_5Y'] = AR(fd,1260)\n",
    "            else:\n",
    "                continue\n",
    "            \n",
    "            fd = fd.drop('t', axis=1)\n",
    "            df = df.append(fd, ignore_index=True)\n",
    "        except KeyError: \n",
    "            continue\n",
    "            #Stopped After Consumer Cyclical EAT\n",
    "df.to_csv(\"gs://vertexaioutputs/Historical Financial Data With ER and AR Calulated Updated.csv\", index=False)"
   ]
  },
  {
   "cell_type": "code",
   "execution_count": 3,
   "id": "d8e99d48-7ab2-4247-b08e-49ea232d8aa7",
   "metadata": {
    "collapsed": true,
    "jupyter": {
     "outputs_hidden": true
    },
    "tags": []
   },
   "outputs": [
    {
     "ename": "SyntaxError",
     "evalue": "unexpected EOF while parsing (3739436.py, line 1)",
     "output_type": "error",
     "traceback": [
      "\u001b[0;36m  File \u001b[0;32m\"/var/tmp/ipykernel_14542/3739436.py\"\u001b[0;36m, line \u001b[0;32m1\u001b[0m\n\u001b[0;31m    df.to_csv(\"gs://vertexaioutputs/first half Historical Financial Data With ER and AR Calulated Updated.csv\", index=False\u001b[0m\n\u001b[0m                                                                                                                           ^\u001b[0m\n\u001b[0;31mSyntaxError\u001b[0m\u001b[0;31m:\u001b[0m unexpected EOF while parsing\n"
     ]
    }
   ],
   "source": [
    "df.to_csv(\"gs://vertexaioutputs/first half Historical Financial Data With ER and AR Calulated Updated.csv\", index=False)"
   ]
  },
  {
   "cell_type": "code",
   "execution_count": null,
   "id": "3ce55615-820e-4fa6-9c96-834e5be106ad",
   "metadata": {},
   "outputs": [],
   "source": []
  }
 ],
 "metadata": {
  "environment": {
   "kernel": "python3",
   "name": "common-cpu.m103",
   "type": "gcloud",
   "uri": "gcr.io/deeplearning-platform-release/base-cpu:m103"
  },
  "kernelspec": {
   "display_name": "Python 3",
   "language": "python",
   "name": "python3"
  },
  "language_info": {
   "codemirror_mode": {
    "name": "ipython",
    "version": 3
   },
   "file_extension": ".py",
   "mimetype": "text/x-python",
   "name": "python",
   "nbconvert_exporter": "python",
   "pygments_lexer": "ipython3",
   "version": "3.7.12"
  }
 },
 "nbformat": 4,
 "nbformat_minor": 5
}
