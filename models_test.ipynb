{
 "cells": [
  {
   "cell_type": "code",
   "execution_count": 6,
   "id": "d09be69c-e6d7-4620-bd01-f3ac40266243",
   "metadata": {},
   "outputs": [
    {
     "name": "stdout",
     "output_type": "stream",
     "text": [
      "0.958595771417104\n",
      "0.9537595193748051\n",
      "0.9537591702289088\n"
     ]
    },
    {
     "data": {
      "text/plain": [
       "['Lasso.pkl']"
      ]
     },
     "execution_count": 6,
     "metadata": {},
     "output_type": "execute_result"
    }
   ],
   "source": [
    "import numpy as n\n",
    "n.random.seed(74)\n",
    "import pandas as p\n",
    "from sklearn.model_selection import train_test_split\n",
    "from sklearn.linear_model import LinearRegression\n",
    "\n",
    "df = p.read_excel(\"data.xlsx\")\n",
    "X = df[['BETA_SEC1M', 'BETA_MRKT1M', 'ER_MRKT1M-100', 'ER_SEC1M-100', 'RFR1M']]\n",
    "Y = df[['ACTUALRETURN_1M-100']]\n",
    "\n",
    "X_train, X_test, y_train, y_test = train_test_split(X, Y, test_size = 0.25)\n",
    "\n",
    "regr = LinearRegression()\n",
    "regr.fit(X_train, y_train)\n",
    "print(regr.score(X_test, y_test))\n",
    "#0.9586531084753821\n",
    "\n",
    "from sklearn.metrics import r2_score\n",
    "hat = regr.predict(X_test)\n",
    "r2_score(y_test, hat)\n",
    "#0.9586531084753821\n",
    "\n",
    "\n",
    "\n",
    "from sklearn.linear_model import Ridge\n",
    "from sklearn.linear_model import Lasso\n",
    "\n",
    "rr = Ridge(alpha=0.01)\n",
    "rr.fit(X_train, y_train)\n",
    "print(rr.score(X_test, y_test))\n",
    "#0.9537595193748051\n",
    "\n",
    "hat = rr.predict(X_test)\n",
    "r2_score(y_test, hat)\n",
    "#0.9537595193748051\n",
    "\n",
    "\n",
    "\n",
    "model_lasso = Lasso(alpha=0.01)\n",
    "model_lasso.fit(X_train, y_train)\n",
    "print(model_lasso.score(X_test, y_test))\n",
    "#0.953759532195977\n",
    "\n",
    "\n",
    "hat = model_lasso.predict(X_test)\n",
    "r2_score(y_test, hat)\n",
    "#0.9586531084753821\n",
    "\n",
    "\n",
    "import joblib\n",
    "\n",
    "# Save the model as a pickle in a file\n",
    "joblib.dump(regr, 'LinReg.pkl')\n",
    "joblib.dump(rr, 'Ridge.pkl')\n",
    "joblib.dump(model_lasso, 'Lasso.pkl')\n"
   ]
  },
  {
   "cell_type": "code",
   "execution_count": 5,
   "id": "695e8df1-0aa9-4a55-a0a9-de6815479a2b",
   "metadata": {},
   "outputs": [
    {
     "name": "stdout",
     "output_type": "stream",
     "text": [
      "Collecting openpyxl\n",
      "  Downloading openpyxl-3.1.1-py2.py3-none-any.whl (249 kB)\n",
      "\u001b[2K     \u001b[90m━━━━━━━━━━━━━━━━━━━━━━━━━━━━━━━━━━━━━━━\u001b[0m \u001b[32m249.8/249.8 kB\u001b[0m \u001b[31m7.7 MB/s\u001b[0m eta \u001b[36m0:00:00\u001b[0m\n",
      "\u001b[?25hCollecting et-xmlfile\n",
      "  Downloading et_xmlfile-1.1.0-py3-none-any.whl (4.7 kB)\n",
      "Installing collected packages: et-xmlfile, openpyxl\n",
      "Successfully installed et-xmlfile-1.1.0 openpyxl-3.1.1\n"
     ]
    }
   ],
   "source": [
    "!pip3 install openpyxl "
   ]
  },
  {
   "cell_type": "code",
   "execution_count": 7,
   "id": "38670c03-51cd-41e3-a49f-cb03b13e89c5",
   "metadata": {},
   "outputs": [
    {
     "name": "stdout",
     "output_type": "stream",
     "text": [
      "Requirement already satisfied: openpyxl in /opt/conda/lib/python3.7/site-packages (3.1.1)\n",
      "Requirement already satisfied: et-xmlfile in /opt/conda/lib/python3.7/site-packages (from openpyxl) (1.1.0)\n"
     ]
    }
   ],
   "source": [
    "!pip3 install openpyxl"
   ]
  },
  {
   "cell_type": "code",
   "execution_count": null,
   "id": "4ea16472-802f-427f-b815-736de8c8e9b3",
   "metadata": {},
   "outputs": [],
   "source": []
  }
 ],
 "metadata": {
  "environment": {
   "kernel": "python3",
   "name": "common-cpu.m103",
   "type": "gcloud",
   "uri": "gcr.io/deeplearning-platform-release/base-cpu:m103"
  },
  "kernelspec": {
   "display_name": "Python 3",
   "language": "python",
   "name": "python3"
  },
  "language_info": {
   "codemirror_mode": {
    "name": "ipython",
    "version": 3
   },
   "file_extension": ".py",
   "mimetype": "text/x-python",
   "name": "python",
   "nbconvert_exporter": "python",
   "pygments_lexer": "ipython3",
   "version": "3.7.12"
  }
 },
 "nbformat": 4,
 "nbformat_minor": 5
}
